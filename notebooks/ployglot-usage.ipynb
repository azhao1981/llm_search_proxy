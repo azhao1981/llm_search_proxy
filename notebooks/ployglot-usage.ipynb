{
 "cells": [
  {
   "cell_type": "markdown",
   "metadata": {},
   "source": [
    "下载不了\n",
    "https://www.cnblogs.com/leimu/p/14810464.html"
   ]
  },
  {
   "cell_type": "code",
   "execution_count": null,
   "metadata": {},
   "outputs": [],
   "source": [
    "import polyglot\n",
    "\n",
    "import socket, socks\n",
    "socks.set_default_proxy(socks.SOCKS5, \"127.0.0.1\", 1081)\n",
    "socket.socket = socks.socksocket\n",
    "!polyglot download ner2.id embeddings2.id # 印度尼西亚的缩写为id,同理，中文的缩写为zh\n",
    "socket.socket = socket._socket.socket"
   ]
  },
  {
   "cell_type": "code",
   "execution_count": null,
   "metadata": {},
   "outputs": [],
   "source": [
    "from polyglot.text import Text\n",
    "text_id = \"Aku orang Cina.\"\n",
    "print(Text(text_id).entities)"
   ]
  },
  {
   "cell_type": "markdown",
   "metadata": {},
   "source": [
    "## 语言测试"
   ]
  },
  {
   "cell_type": "code",
   "execution_count": null,
   "metadata": {},
   "outputs": [],
   "source": [
    "from polyglot.detect import Detector\n",
    "from polyglot.text import Text\n",
    "text = \"สวัสดีครับ\"\n",
    "detector = Detector(text)\n",
    "language_code = detector.language.code\n",
    "\n",
    "t = Text(text, hint_language_code=language_code)\n",
    "print(t.words)"
   ]
  },
  {
   "cell_type": "code",
   "execution_count": null,
   "metadata": {},
   "outputs": [],
   "source": [
    "from polyglot.detect import Detector\n",
    "from polyglot.text import Text\n",
    "text = \"\"\"\n",
    "    Japan's last pager provider has announced it will end its service in September 2019 - bringing a national end to telecommunication beepers , \n",
    "50 years after their introduction.Around 1,500 users remain subscribed to Tokyo Telemessage , which has not made the devices in 20 years .\n",
    "    \"\"\"\n",
    "detector = Detector(text)\n",
    "language_code = detector.language.code\n",
    "print(language_code)\n",
    "print(Text(text).words)"
   ]
  },
  {
   "cell_type": "markdown",
   "metadata": {},
   "source": [
    "### 在 polyglot 中，菲律宾语（Tagalog）用语言代码 tl 表示。"
   ]
  },
  {
   "cell_type": "code",
   "execution_count": 1,
   "metadata": {},
   "outputs": [
    {
     "name": "stdout",
     "output_type": "stream",
     "text": [
      "tl\n",
      "['Inihayag', 'ng', 'huling', 'tagapagbigay', 'ng', 'pager', 'sa', 'Japan', 'na', 'wawakasan', 'nito', 'ang', 'serbisyo', 'nito', 'sa', 'Setyembre', '2019', '-', 'na', 'magdudulot', 'ng', 'pambansang', 'pagtatapos', 'sa', 'mga', 'telecommunication', 'beeper', ',', '50', 'taon', 'matapos', 'ang', 'kanilang', 'pagpapakilala', '.', 'Humigit', '-', 'kumulang', '1,500', 'gumagamit', 'ang', 'nananatiling', 'naka', '-', 'subscribe', 'sa', 'Tokyo', 'Telemessage', ',', 'na', 'hindi', 'na', 'gumagawa', 'ng', 'mga', 'device', 'sa', 'loob', 'ng', '20', 'taon', '.']\n"
     ]
    }
   ],
   "source": [
    "from polyglot.detect import Detector\n",
    "from polyglot.text import Text\n",
    "text = \"\"\"\n",
    "   Inihayag ng huling tagapagbigay ng pager sa Japan na wawakasan nito ang serbisyo nito sa Setyembre 2019 - na magdudulot ng pambansang pagtatapos sa mga telecommunication beeper, 50 taon matapos ang kanilang pagpapakilala. Humigit-kumulang 1,500 gumagamit ang nananatiling naka-subscribe sa Tokyo Telemessage, na hindi na gumagawa ng mga device sa loob ng 20 taon.\n",
    "    \"\"\"\n",
    "detector = Detector(text)\n",
    "language_code = detector.language.code\n",
    "print(language_code)\n",
    "print(Text(text).words)"
   ]
  },
  {
   "cell_type": "code",
   "execution_count": 2,
   "metadata": {},
   "outputs": [
    {
     "name": "stdout",
     "output_type": "stream",
     "text": [
      "zh_Hant\n",
      "['日本', '最後', '嘅', '傳', '呼', '機', '供應', '商', '宣布', '佢', '哋', '會', '喺', '2019', '年', '9', '月', '停止', '服務', '-', '呢', '個', '係', '全國', '通訊', '傳', '呼', '機', '喺', '推出', '50', '年', '之後', '嘅', '終結', '。', '大約', '仲', '有', '1,500', '個', '用戶', '訂閱', '東京', '電訊', '，', '佢', '哋', '已經', '20', '年', '冇', '再', '製造', '呢', '啲', '裝置', '。']\n"
     ]
    }
   ],
   "source": [
    "text = \"\"\"\n",
    "日本最後嘅傳呼機供應商宣布佢哋會喺2019年9月停止服務 - 呢個係全國通訊傳呼機喺推出50年之後嘅終結。大約仲有1,500個用戶訂閱東京電訊，佢哋已經20年冇再製造呢啲裝置。\n",
    "\"\"\"\n",
    "detector = Detector(text)\n",
    "language_code = detector.language.code\n",
    "print(language_code)\n",
    "print(Text(text).words)"
   ]
  },
  {
   "cell_type": "code",
   "execution_count": 3,
   "metadata": {},
   "outputs": [
    {
     "name": "stdout",
     "output_type": "stream",
     "text": [
      "ja\n",
      "['日本', '最後', 'の', 'ポケットベル', '事業', '者', 'が', '2019', '年', '9', '月', 'に', 'サービス', 'を', '終了', 'すると', '発表', 'しま', 'した', '。', 'これ', 'により', '、', '導入', 'から', '50', '年', '後に', '全国', '的', 'な', '通信', 'ビーパー', 'の', '終焉', 'を', '迎える', 'ことに', 'なり', 'ます', '。', '約', '1,500', '人', 'の', 'ユーザー', 'が', '東京', 'テレ', 'メッセージ', 'に', '加入', 'した', 'まま', 'ですが', '、', '同社', 'は', '20', '年間', 'デバイス', 'を', '製造', 'し', 'てい', 'ま', 'せん', '。']\n"
     ]
    }
   ],
   "source": [
    "text = \"\"\"\n",
    "日本最後のポケットベル事業者が2019年9月にサービスを終了すると発表しました。これにより、導入から50年後に全国的な通信ビーパーの終焉を迎えることになります。約1,500人のユーザーが東京テレメッセージに加入したままですが、同社は20年間デバイスを製造していません。\n",
    "\"\"\"\n",
    "detector = Detector(text)\n",
    "language_code = detector.language.code\n",
    "print(language_code)\n",
    "print(Text(text).words)"
   ]
  },
  {
   "cell_type": "code",
   "execution_count": 4,
   "metadata": {},
   "outputs": [
    {
     "name": "stdout",
     "output_type": "stream",
     "text": [
      "ko\n",
      "['일본의', '마지막', '호출기', '제공업체가', '2019', '년', '9', '월에', '서비스를', '종료할', '것이라고', '발표했습니다', '.', '이는', '도입된', '지', '50', '년', '만에', '전국적으로', '통신', '호출기의', '종말을', '의미합니다', '.', '약', '1,500', '명의', '사용자가', '여전히', '도쿄', '텔레메시지에', '가입되어', '있으며', ',', '이', '회사는', '20', '년', '동안', '장치를', '제조하지', '않았습니다', '.']\n"
     ]
    }
   ],
   "source": [
    "text = \"\"\"\n",
    "일본의 마지막 호출기 제공업체가 2019년 9월에 서비스를 종료할 것이라고 발표했습니다. 이는 도입된 지 50년 만에 전국적으로 통신 호출기의 종말을 의미합니다. 약 1,500명의 사용자가 여전히 도쿄 텔레메시지에 가입되어 있으며, 이 회사는 20년 동안 장치를 제조하지 않았습니다.\"\"\"\n",
    "detector = Detector(text)\n",
    "language_code = detector.language.code\n",
    "print(language_code)\n",
    "print(Text(text).words)"
   ]
  }
 ],
 "metadata": {
  "kernelspec": {
   "display_name": "llm310",
   "language": "python",
   "name": "python3"
  },
  "language_info": {
   "codemirror_mode": {
    "name": "ipython",
    "version": 3
   },
   "file_extension": ".py",
   "mimetype": "text/x-python",
   "name": "python",
   "nbconvert_exporter": "python",
   "pygments_lexer": "ipython3",
   "version": "3.10.12"
  }
 },
 "nbformat": 4,
 "nbformat_minor": 2
}
